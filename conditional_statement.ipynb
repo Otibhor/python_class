{
 "cells": [
  {
   "cell_type": "code",
   "execution_count": null,
   "metadata": {},
   "outputs": [],
   "source": [
    "if \"it's alive\":\n",
    "    print('it is breathing')\n",
    "else:\n",
    "    print('it is dead')"
   ]
  },
  {
   "cell_type": "code",
   "execution_count": null,
   "metadata": {},
   "outputs": [],
   "source": [
    "if 'it is cold':\n",
    "    'I will wear a sweater'\n",
    "elif 'it is cool':\n",
    "    'I will wear a sleeved dress'\n",
    "elif 'it is warm':\n",
    "    'I will wear a light cloth'\n",
    "else:\n",
    "    'I will turn on the AC'"
   ]
  },
  {
   "cell_type": "code",
   "execution_count": 2,
   "metadata": {},
   "outputs": [
    {
     "name": "stdout",
     "output_type": "stream",
     "text": [
      "['keys', 'money', 'handkerchief', 'pen', 'phone']\n"
     ]
    },
    {
     "data": {
      "text/plain": [
       "list"
      ]
     },
     "execution_count": 2,
     "metadata": {},
     "output_type": "execute_result"
    }
   ],
   "source": [
    "mybag = ['keys', 'money', 'handkerchief', 'pen', 'phone']\n",
    "\n",
    "print(mybag)\n",
    "\n",
    "type(mybag)"
   ]
  },
  {
   "cell_type": "code",
   "execution_count": 5,
   "metadata": {},
   "outputs": [
    {
     "name": "stdout",
     "output_type": "stream",
     "text": [
      "keys\n",
      "money\n",
      "handkerchief\n",
      "pen\n"
     ]
    }
   ],
   "source": [
    " #for variable in collection \n",
    "for item in mybag:\n",
    "    print(item)\n",
    "   "
   ]
  },
  {
   "cell_type": "code",
   "execution_count": 4,
   "metadata": {},
   "outputs": [
    {
     "name": "stdout",
     "output_type": "stream",
     "text": [
      "phone\n"
     ]
    }
   ],
   "source": [
    "print(mybag.pop())"
   ]
  },
  {
   "cell_type": "code",
   "execution_count": 7,
   "metadata": {},
   "outputs": [
    {
     "name": "stdout",
     "output_type": "stream",
     "text": [
      "['keys', 'money', 'handkerchief', 'pen', 'phone', 'phone']\n"
     ]
    }
   ],
   "source": [
    "mybag.append('phone')\n",
    "print(mybag)"
   ]
  },
  {
   "cell_type": "code",
   "execution_count": 10,
   "metadata": {},
   "outputs": [],
   "source": [
    "bag=['spoon', 'wig', 'mirror']\n",
    "\n",
    "bag.append('diaper')\n"
   ]
  },
  {
   "cell_type": "code",
   "execution_count": 17,
   "metadata": {},
   "outputs": [],
   "source": [
    "bag =['spoon', 'wig', 'mirror']\n",
    "bag.append('diaper')"
   ]
  },
  {
   "cell_type": "code",
   "execution_count": 18,
   "metadata": {},
   "outputs": [
    {
     "name": "stdout",
     "output_type": "stream",
     "text": [
      "['spoon', 'wig', 'mirror', 'diaper']\n"
     ]
    }
   ],
   "source": [
    "extra_bag = bag\n",
    "print(extra_bag)"
   ]
  },
  {
   "cell_type": "code",
   "execution_count": 21,
   "metadata": {},
   "outputs": [],
   "source": [
    "bag =['spoon', 'wig', 'mirror']\n",
    "bag.append('diaper')"
   ]
  },
  {
   "cell_type": "code",
   "execution_count": 22,
   "metadata": {},
   "outputs": [
    {
     "name": "stdout",
     "output_type": "stream",
     "text": [
      "['spoon', 'wig', 'mirror', 'diaper']\n"
     ]
    }
   ],
   "source": [
    "extra_bag = bag\n",
    "print(extra_bag)"
   ]
  },
  {
   "cell_type": "code",
   "execution_count": 23,
   "metadata": {},
   "outputs": [
    {
     "name": "stdout",
     "output_type": "stream",
     "text": [
      "None\n"
     ]
    }
   ],
   "source": [
    "print(extra_bag.insert(0,'wig'))"
   ]
  },
  {
   "cell_type": "code",
   "execution_count": 25,
   "metadata": {},
   "outputs": [
    {
     "name": "stdout",
     "output_type": "stream",
     "text": [
      "Osas\n"
     ]
    }
   ],
   "source": [
    "name ='Etiosa'\n",
    "\n",
    "def change_name(loc_name):\n",
    "    class_name='AWS'\n",
    "\n",
    "    print(loc_name)\n",
    "\n",
    "change_name('Osas')"
   ]
  },
  {
   "cell_type": "code",
   "execution_count": 2,
   "metadata": {},
   "outputs": [
    {
     "name": "stdout",
     "output_type": "stream",
     "text": [
      "0\n",
      "2\n",
      "4\n",
      "6\n",
      "8\n"
     ]
    }
   ],
   "source": [
    "for i in range(0,10,2):\n",
    "    print(i)"
   ]
  },
  {
   "cell_type": "code",
   "execution_count": 3,
   "metadata": {},
   "outputs": [
    {
     "name": "stdout",
     "output_type": "stream",
     "text": [
      "64\n"
     ]
    }
   ],
   "source": [
    "score = int(input('Enter student score: '))\n",
    "print(score + 30)"
   ]
  },
  {
   "cell_type": "code",
   "execution_count": 11,
   "metadata": {},
   "outputs": [
    {
     "name": "stdout",
     "output_type": "stream",
     "text": [
      "students score cannot be greater than 100\n"
     ]
    }
   ],
   "source": [
    "score = int(input('Enter student score: '))\n",
    "if score > 100:\n",
    "    print('students score cannot be greater than 100')\n",
    "else:\n",
    "    \n",
    "    if score >= 40 and score<=50:\n",
    "        print('students grade is D')\n",
    "    elif score >=51 and score <= 60:\n",
    "        print('students grade is C')\n",
    "    elif score >=61 and score <= 75:\n",
    "        print('students grade is B')\n",
    "    elif score >=76 and score <= 100:\n",
    "        print('students grade is C')\n",
    "    else:\n",
    "        print('failed')"
   ]
  },
  {
   "cell_type": "code",
   "execution_count": 9,
   "metadata": {},
   "outputs": [
    {
     "name": "stdout",
     "output_type": "stream",
     "text": [
      "not greater\n"
     ]
    }
   ],
   "source": [
    "num1 = 10\n",
    "num2 = 20\n",
    "num3 = 30\n",
    "\n",
    "if num1  > num2 and num1 > num3:\n",
    "    print('num1 is the higest number')\n",
    "else:\n",
    "    print('not greater')"
   ]
  },
  {
   "cell_type": "code",
   "execution_count": 14,
   "metadata": {},
   "outputs": [
    {
     "name": "stdout",
     "output_type": "stream",
     "text": [
      "students score cannot be greater than 100\n"
     ]
    }
   ],
   "source": [
    "score = int(input('Enter student score: '))\n",
    "if score > 100:\n",
    "    print('students score cannot be greater than 100')\n",
    "else:\n",
    "    \n",
    "    if score in range(40,51):\n",
    "        print('students grade is D')\n",
    "    elif score in range(51, 61):\n",
    "        print('students grade is C')\n",
    "    elif score in range(61,76):\n",
    "        print('students grade is B')\n",
    "    elif score in range(76, 101):\n",
    "        print('students grade is A')\n",
    "    else:\n",
    "        print('failed')"
   ]
  },
  {
   "cell_type": "markdown",
   "metadata": {},
   "source": [
    "Function"
   ]
  },
  {
   "cell_type": "code",
   "execution_count": null,
   "metadata": {},
   "outputs": [],
   "source": []
  },
  {
   "cell_type": "code",
   "execution_count": null,
   "metadata": {},
   "outputs": [],
   "source": []
  },
  {
   "cell_type": "code",
   "execution_count": null,
   "metadata": {},
   "outputs": [],
   "source": []
  },
  {
   "cell_type": "code",
   "execution_count": null,
   "metadata": {},
   "outputs": [],
   "source": []
  }
 ],
 "metadata": {
  "kernelspec": {
   "display_name": "Python 3",
   "language": "python",
   "name": "python3"
  },
  "language_info": {
   "codemirror_mode": {
    "name": "ipython",
    "version": 3
   },
   "file_extension": ".py",
   "mimetype": "text/x-python",
   "name": "python",
   "nbconvert_exporter": "python",
   "pygments_lexer": "ipython3",
   "version": "3.11.5"
  },
  "orig_nbformat": 4
 },
 "nbformat": 4,
 "nbformat_minor": 2
}
