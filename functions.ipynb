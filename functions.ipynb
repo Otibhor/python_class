{
 "cells": [
  {
   "cell_type": "code",
   "execution_count": 7,
   "metadata": {},
   "outputs": [
    {
     "name": "stdout",
     "output_type": "stream",
     "text": [
      "students grade is A\n"
     ]
    }
   ],
   "source": [
    "def gradingSystem(score):\n",
    "\n",
    "    if score > 100:\n",
    "        print('students score cannot be greater than 100')\n",
    "    else:\n",
    "        \n",
    "        if score in range(40,51):\n",
    "            print('students grade is D')\n",
    "        elif score in range(51, 61):\n",
    "            print('students grade is C')\n",
    "        elif score in range(61,76):\n",
    "            print('students grade is B')\n",
    "        elif score in range(76, 101):\n",
    "            print('students grade is A')\n",
    "        else:\n",
    "            print('failed')\n",
    "\n",
    "studentScore = int(input('Enter student score: '))\n",
    "\n",
    "gradingSystem(studentScore)"
   ]
  },
  {
   "cell_type": "code",
   "execution_count": 9,
   "metadata": {},
   "outputs": [
    {
     "name": "stdout",
     "output_type": "stream",
     "text": [
      "Student Data:\n",
      "Name: Alice, Score: 95, Grade: A\n",
      "Name: Bob, Score: 88, Grade: B\n",
      "Name: Charlie, Score: 72, Grade: C\n",
      "Name: Osas, Score: 30, Grade: F\n",
      "Name: Omone, Score: 45, Grade: F\n"
     ]
    }
   ],
   "source": [
    "# Create an empty dictionary to store student information\n",
    "student_data = {}\n",
    "\n",
    "# Function to calculate grades based on scores\n",
    "def calculate_grade(score):\n",
    "    if score >= 90:\n",
    "        return 'A'\n",
    "    elif score >= 80:\n",
    "        return 'B'\n",
    "    elif score >= 70:\n",
    "        return 'C'\n",
    "    elif score >= 60:\n",
    "        return 'D'\n",
    "    else:\n",
    "        return 'F'\n",
    "\n",
    "# Function to add a student with name, score, and grade to the dictionary\n",
    "def add_student(name, score):\n",
    "    grade = calculate_grade(score)\n",
    "    student_data[name] = {'Score': score, 'Grade': grade}\n",
    "\n",
    "# Function to print the list of students, scores, and grades\n",
    "def print_student_data():\n",
    "    print(\"Student Data:\")\n",
    "    for name, data in student_data.items():\n",
    "        print(f\"Name: {name}, Score: {data['Score']}, Grade: {data['Grade']}\")\n",
    "\n",
    "# Sample usage:\n",
    "add_student(\"Alice\", 95)\n",
    "add_student(\"Bob\", 88)\n",
    "add_student(\"Charlie\", 72)\n",
    "add_student(\"Osas\", 30)\n",
    "add_student(\"Omone\", 45)\n",
    "\n",
    "print_student_data()\n",
    "\n",
    "    "
   ]
  }
 ],
 "metadata": {
  "kernelspec": {
   "display_name": "Python 3",
   "language": "python",
   "name": "python3"
  },
  "language_info": {
   "codemirror_mode": {
    "name": "ipython",
    "version": 3
   },
   "file_extension": ".py",
   "mimetype": "text/x-python",
   "name": "python",
   "nbconvert_exporter": "python",
   "pygments_lexer": "ipython3",
   "version": "3.11.5"
  },
  "orig_nbformat": 4
 },
 "nbformat": 4,
 "nbformat_minor": 2
}
